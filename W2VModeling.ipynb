{
 "cells": [
  {
   "cell_type": "markdown",
   "metadata": {},
   "source": [
    "# Text modeling\n",
    "- Explore and pre-process text\n",
    "- Train generic embeddings with Google News corpus\n",
    "- Use Word2Vec to create vectors from project blurb\n",
    "- Test model somehow"
   ]
  },
  {
   "cell_type": "code",
   "execution_count": 4,
   "metadata": {},
   "outputs": [],
   "source": [
    "# Import packages\n",
    "\n",
    "import numpy as np\n",
    "import pandas as pd\n",
    "import csv\n",
    "import numpy as np\n",
    "import scipy\n",
    "import six\n",
    "import smart_open as so"
   ]
  },
  {
   "cell_type": "code",
   "execution_count": 6,
   "metadata": {},
   "outputs": [],
   "source": [
    "# Read in df\n",
    "df = pd.read_csv('output/ks_struct_nodata.csv', sep='\\t')"
   ]
  },
  {
   "cell_type": "code",
   "execution_count": 33,
   "metadata": {},
   "outputs": [
    {
     "data": {
      "text/html": [
       "<div>\n",
       "<style scoped>\n",
       "    .dataframe tbody tr th:only-of-type {\n",
       "        vertical-align: middle;\n",
       "    }\n",
       "\n",
       "    .dataframe tbody tr th {\n",
       "        vertical-align: top;\n",
       "    }\n",
       "\n",
       "    .dataframe thead th {\n",
       "        text-align: right;\n",
       "    }\n",
       "</style>\n",
       "<table border=\"1\" class=\"dataframe\">\n",
       "  <thead>\n",
       "    <tr style=\"text-align: right;\">\n",
       "      <th></th>\n",
       "      <th>table_id</th>\n",
       "      <th>robot_id</th>\n",
       "      <th>run_id</th>\n",
       "      <th>country</th>\n",
       "      <th>state</th>\n",
       "      <th>projecturls</th>\n",
       "      <th>data_id</th>\n",
       "      <th>d_name</th>\n",
       "      <th>d_blurb</th>\n",
       "      <th>d_goal</th>\n",
       "      <th>...</th>\n",
       "      <th>d_launchedat</th>\n",
       "      <th>d_staffpick</th>\n",
       "      <th>d_nobackers</th>\n",
       "      <th>d_spotlight</th>\n",
       "      <th>location_id</th>\n",
       "      <th>loc_name</th>\n",
       "      <th>loc_state</th>\n",
       "      <th>category_id</th>\n",
       "      <th>cat_name</th>\n",
       "      <th>cat_slug</th>\n",
       "    </tr>\n",
       "  </thead>\n",
       "  <tbody>\n",
       "    <tr>\n",
       "      <td>0</td>\n",
       "      <td>Kickstarter</td>\n",
       "      <td>Kickstarter</td>\n",
       "      <td>Kickstarter_2019-07-18T03_20_05_009Z</td>\n",
       "      <td>US</td>\n",
       "      <td>successful</td>\n",
       "      <td>https://www.kickstarter.com/projects/184955320...</td>\n",
       "      <td>521645557</td>\n",
       "      <td>How to Breathe Underwater/In the Black Box -- ...</td>\n",
       "      <td>A surrealist's guide to navigating the dark de...</td>\n",
       "      <td>1500.0</td>\n",
       "      <td>...</td>\n",
       "      <td>1465488766</td>\n",
       "      <td>False</td>\n",
       "      <td>44</td>\n",
       "      <td>True</td>\n",
       "      <td>2356940.0</td>\n",
       "      <td>Athens</td>\n",
       "      <td>GA</td>\n",
       "      <td>42</td>\n",
       "      <td>Pop</td>\n",
       "      <td>music/pop</td>\n",
       "    </tr>\n",
       "    <tr>\n",
       "      <td>1</td>\n",
       "      <td>Kickstarter</td>\n",
       "      <td>Kickstarter</td>\n",
       "      <td>Kickstarter_2019-07-18T03_20_05_009Z</td>\n",
       "      <td>US</td>\n",
       "      <td>failed</td>\n",
       "      <td>https://www.kickstarter.com/projects/760226815...</td>\n",
       "      <td>504193797</td>\n",
       "      <td>Backpackable one-person high resolution UAV ma...</td>\n",
       "      <td>Continue to develop a user friendly one-person...</td>\n",
       "      <td>10000.0</td>\n",
       "      <td>...</td>\n",
       "      <td>1397105848</td>\n",
       "      <td>False</td>\n",
       "      <td>3</td>\n",
       "      <td>False</td>\n",
       "      <td>2441116.0</td>\n",
       "      <td>Logan</td>\n",
       "      <td>UT</td>\n",
       "      <td>336</td>\n",
       "      <td>Flight</td>\n",
       "      <td>technology/flight</td>\n",
       "    </tr>\n",
       "    <tr>\n",
       "      <td>2</td>\n",
       "      <td>Kickstarter</td>\n",
       "      <td>Kickstarter</td>\n",
       "      <td>Kickstarter_2019-07-18T03_20_05_009Z</td>\n",
       "      <td>US</td>\n",
       "      <td>failed</td>\n",
       "      <td>https://www.kickstarter.com/projects/143006059...</td>\n",
       "      <td>1667139345</td>\n",
       "      <td>LOVE STORY</td>\n",
       "      <td>LOVE STORY IS ABOUT THE REAL LOVE THAT PEOPLE ...</td>\n",
       "      <td>2500.0</td>\n",
       "      <td>...</td>\n",
       "      <td>1376512056</td>\n",
       "      <td>False</td>\n",
       "      <td>5</td>\n",
       "      <td>False</td>\n",
       "      <td>2503713.0</td>\n",
       "      <td>Tallahassee</td>\n",
       "      <td>FL</td>\n",
       "      <td>44</td>\n",
       "      <td>World Music</td>\n",
       "      <td>music/world music</td>\n",
       "    </tr>\n",
       "    <tr>\n",
       "      <td>3</td>\n",
       "      <td>Kickstarter</td>\n",
       "      <td>Kickstarter</td>\n",
       "      <td>Kickstarter_2019-07-18T03_20_05_009Z</td>\n",
       "      <td>US</td>\n",
       "      <td>failed</td>\n",
       "      <td>https://www.kickstarter.com/projects/533614462...</td>\n",
       "      <td>1389221860</td>\n",
       "      <td>Detroit Revue Concert</td>\n",
       "      <td>Together we can bring a star back on the map o...</td>\n",
       "      <td>35500.0</td>\n",
       "      <td>...</td>\n",
       "      <td>1375666413</td>\n",
       "      <td>False</td>\n",
       "      <td>0</td>\n",
       "      <td>False</td>\n",
       "      <td>2391585.0</td>\n",
       "      <td>Detroit</td>\n",
       "      <td>MI</td>\n",
       "      <td>44</td>\n",
       "      <td>World Music</td>\n",
       "      <td>music/world music</td>\n",
       "    </tr>\n",
       "    <tr>\n",
       "      <td>4</td>\n",
       "      <td>Kickstarter</td>\n",
       "      <td>Kickstarter</td>\n",
       "      <td>Kickstarter_2019-07-18T03_20_05_009Z</td>\n",
       "      <td>US</td>\n",
       "      <td>successful</td>\n",
       "      <td>https://www.kickstarter.com/projects/131995875...</td>\n",
       "      <td>1730678034</td>\n",
       "      <td>Let's Commit (to) a MURDER, SHE WROTE Album of...</td>\n",
       "      <td>Songwriter Joel B. New is creating his first-e...</td>\n",
       "      <td>6500.0</td>\n",
       "      <td>...</td>\n",
       "      <td>1457360083</td>\n",
       "      <td>False</td>\n",
       "      <td>165</td>\n",
       "      <td>True</td>\n",
       "      <td>2459115.0</td>\n",
       "      <td>New York</td>\n",
       "      <td>NY</td>\n",
       "      <td>42</td>\n",
       "      <td>Pop</td>\n",
       "      <td>music/pop</td>\n",
       "    </tr>\n",
       "  </tbody>\n",
       "</table>\n",
       "<p>5 rows × 25 columns</p>\n",
       "</div>"
      ],
      "text/plain": [
       "      table_id     robot_id                                run_id country  \\\n",
       "0  Kickstarter  Kickstarter  Kickstarter_2019-07-18T03_20_05_009Z      US   \n",
       "1  Kickstarter  Kickstarter  Kickstarter_2019-07-18T03_20_05_009Z      US   \n",
       "2  Kickstarter  Kickstarter  Kickstarter_2019-07-18T03_20_05_009Z      US   \n",
       "3  Kickstarter  Kickstarter  Kickstarter_2019-07-18T03_20_05_009Z      US   \n",
       "4  Kickstarter  Kickstarter  Kickstarter_2019-07-18T03_20_05_009Z      US   \n",
       "\n",
       "        state                                        projecturls     data_id  \\\n",
       "0  successful  https://www.kickstarter.com/projects/184955320...   521645557   \n",
       "1      failed  https://www.kickstarter.com/projects/760226815...   504193797   \n",
       "2      failed  https://www.kickstarter.com/projects/143006059...  1667139345   \n",
       "3      failed  https://www.kickstarter.com/projects/533614462...  1389221860   \n",
       "4  successful  https://www.kickstarter.com/projects/131995875...  1730678034   \n",
       "\n",
       "                                              d_name  \\\n",
       "0  How to Breathe Underwater/In the Black Box -- ...   \n",
       "1  Backpackable one-person high resolution UAV ma...   \n",
       "2                                         LOVE STORY   \n",
       "3                              Detroit Revue Concert   \n",
       "4  Let's Commit (to) a MURDER, SHE WROTE Album of...   \n",
       "\n",
       "                                             d_blurb   d_goal  ...  \\\n",
       "0  A surrealist's guide to navigating the dark de...   1500.0  ...   \n",
       "1  Continue to develop a user friendly one-person...  10000.0  ...   \n",
       "2  LOVE STORY IS ABOUT THE REAL LOVE THAT PEOPLE ...   2500.0  ...   \n",
       "3  Together we can bring a star back on the map o...  35500.0  ...   \n",
       "4  Songwriter Joel B. New is creating his first-e...   6500.0  ...   \n",
       "\n",
       "   d_launchedat d_staffpick  d_nobackers  d_spotlight  location_id  \\\n",
       "0    1465488766       False           44         True    2356940.0   \n",
       "1    1397105848       False            3        False    2441116.0   \n",
       "2    1376512056       False            5        False    2503713.0   \n",
       "3    1375666413       False            0        False    2391585.0   \n",
       "4    1457360083       False          165         True    2459115.0   \n",
       "\n",
       "      loc_name  loc_state  category_id     cat_name           cat_slug  \n",
       "0       Athens         GA           42          Pop          music/pop  \n",
       "1        Logan         UT          336       Flight  technology/flight  \n",
       "2  Tallahassee         FL           44  World Music  music/world music  \n",
       "3      Detroit         MI           44  World Music  music/world music  \n",
       "4     New York         NY           42          Pop          music/pop  \n",
       "\n",
       "[5 rows x 25 columns]"
      ]
     },
     "execution_count": 33,
     "metadata": {},
     "output_type": "execute_result"
    }
   ],
   "source": [
    "df.head()"
   ]
  },
  {
   "cell_type": "markdown",
   "metadata": {},
   "source": [
    "## Clean up data (remove dupes, pre-process main text field)"
   ]
  },
  {
   "cell_type": "code",
   "execution_count": 8,
   "metadata": {},
   "outputs": [],
   "source": [
    "df_copy = df.copy()"
   ]
  },
  {
   "cell_type": "code",
   "execution_count": null,
   "metadata": {},
   "outputs": [],
   "source": []
  },
  {
   "cell_type": "code",
   "execution_count": 31,
   "metadata": {},
   "outputs": [
    {
     "data": {
      "text/plain": [
       "True"
      ]
     },
     "execution_count": 31,
     "metadata": {},
     "output_type": "execute_result"
    }
   ],
   "source": [
    "df.shape == df_copy.shape"
   ]
  },
  {
   "cell_type": "code",
   "execution_count": 32,
   "metadata": {},
   "outputs": [
    {
     "data": {
      "text/plain": [
       "(139246, 25)"
      ]
     },
     "execution_count": 32,
     "metadata": {},
     "output_type": "execute_result"
    }
   ],
   "source": [
    "df.shape"
   ]
  },
  {
   "cell_type": "code",
   "execution_count": 36,
   "metadata": {},
   "outputs": [],
   "source": [
    "nodupes = df_copy.drop_duplicates()"
   ]
  },
  {
   "cell_type": "code",
   "execution_count": 37,
   "metadata": {},
   "outputs": [
    {
     "data": {
      "text/plain": [
       "(123681, 25)"
      ]
     },
     "execution_count": 37,
     "metadata": {},
     "output_type": "execute_result"
    }
   ],
   "source": [
    "nodupes.shape"
   ]
  },
  {
   "cell_type": "code",
   "execution_count": 70,
   "metadata": {},
   "outputs": [
    {
     "data": {
      "text/html": [
       "<div>\n",
       "<style scoped>\n",
       "    .dataframe tbody tr th:only-of-type {\n",
       "        vertical-align: middle;\n",
       "    }\n",
       "\n",
       "    .dataframe tbody tr th {\n",
       "        vertical-align: top;\n",
       "    }\n",
       "\n",
       "    .dataframe thead th {\n",
       "        text-align: right;\n",
       "    }\n",
       "</style>\n",
       "<table border=\"1\" class=\"dataframe\">\n",
       "  <thead>\n",
       "    <tr style=\"text-align: right;\">\n",
       "      <th></th>\n",
       "      <th>table_id</th>\n",
       "      <th>robot_id</th>\n",
       "      <th>run_id</th>\n",
       "      <th>country</th>\n",
       "      <th>state</th>\n",
       "      <th>projecturls</th>\n",
       "      <th>data_id</th>\n",
       "      <th>d_name</th>\n",
       "      <th>d_blurb</th>\n",
       "      <th>d_goal</th>\n",
       "      <th>...</th>\n",
       "      <th>d_launchedat</th>\n",
       "      <th>d_staffpick</th>\n",
       "      <th>d_nobackers</th>\n",
       "      <th>d_spotlight</th>\n",
       "      <th>location_id</th>\n",
       "      <th>loc_name</th>\n",
       "      <th>loc_state</th>\n",
       "      <th>category_id</th>\n",
       "      <th>cat_name</th>\n",
       "      <th>cat_slug</th>\n",
       "    </tr>\n",
       "  </thead>\n",
       "  <tbody>\n",
       "    <tr>\n",
       "      <td>0</td>\n",
       "      <td>Kickstarter</td>\n",
       "      <td>Kickstarter</td>\n",
       "      <td>Kickstarter_2019-07-18T03_20_05_009Z</td>\n",
       "      <td>US</td>\n",
       "      <td>successful</td>\n",
       "      <td>https://www.kickstarter.com/projects/184955320...</td>\n",
       "      <td>521645557</td>\n",
       "      <td>How to Breathe Underwater/In the Black Box -- ...</td>\n",
       "      <td>A surrealist's guide to navigating the dark de...</td>\n",
       "      <td>1500.0</td>\n",
       "      <td>...</td>\n",
       "      <td>1465488766</td>\n",
       "      <td>False</td>\n",
       "      <td>44</td>\n",
       "      <td>True</td>\n",
       "      <td>2356940.0</td>\n",
       "      <td>Athens</td>\n",
       "      <td>GA</td>\n",
       "      <td>42</td>\n",
       "      <td>Pop</td>\n",
       "      <td>music/pop</td>\n",
       "    </tr>\n",
       "    <tr>\n",
       "      <td>1</td>\n",
       "      <td>Kickstarter</td>\n",
       "      <td>Kickstarter</td>\n",
       "      <td>Kickstarter_2019-07-18T03_20_05_009Z</td>\n",
       "      <td>US</td>\n",
       "      <td>failed</td>\n",
       "      <td>https://www.kickstarter.com/projects/760226815...</td>\n",
       "      <td>504193797</td>\n",
       "      <td>Backpackable one-person high resolution UAV ma...</td>\n",
       "      <td>Continue to develop a user friendly one-person...</td>\n",
       "      <td>10000.0</td>\n",
       "      <td>...</td>\n",
       "      <td>1397105848</td>\n",
       "      <td>False</td>\n",
       "      <td>3</td>\n",
       "      <td>False</td>\n",
       "      <td>2441116.0</td>\n",
       "      <td>Logan</td>\n",
       "      <td>UT</td>\n",
       "      <td>336</td>\n",
       "      <td>Flight</td>\n",
       "      <td>technology/flight</td>\n",
       "    </tr>\n",
       "    <tr>\n",
       "      <td>2</td>\n",
       "      <td>Kickstarter</td>\n",
       "      <td>Kickstarter</td>\n",
       "      <td>Kickstarter_2019-07-18T03_20_05_009Z</td>\n",
       "      <td>US</td>\n",
       "      <td>failed</td>\n",
       "      <td>https://www.kickstarter.com/projects/143006059...</td>\n",
       "      <td>1667139345</td>\n",
       "      <td>LOVE STORY</td>\n",
       "      <td>LOVE STORY IS ABOUT THE REAL LOVE THAT PEOPLE ...</td>\n",
       "      <td>2500.0</td>\n",
       "      <td>...</td>\n",
       "      <td>1376512056</td>\n",
       "      <td>False</td>\n",
       "      <td>5</td>\n",
       "      <td>False</td>\n",
       "      <td>2503713.0</td>\n",
       "      <td>Tallahassee</td>\n",
       "      <td>FL</td>\n",
       "      <td>44</td>\n",
       "      <td>World Music</td>\n",
       "      <td>music/world music</td>\n",
       "    </tr>\n",
       "    <tr>\n",
       "      <td>3</td>\n",
       "      <td>Kickstarter</td>\n",
       "      <td>Kickstarter</td>\n",
       "      <td>Kickstarter_2019-07-18T03_20_05_009Z</td>\n",
       "      <td>US</td>\n",
       "      <td>failed</td>\n",
       "      <td>https://www.kickstarter.com/projects/533614462...</td>\n",
       "      <td>1389221860</td>\n",
       "      <td>Detroit Revue Concert</td>\n",
       "      <td>Together we can bring a star back on the map o...</td>\n",
       "      <td>35500.0</td>\n",
       "      <td>...</td>\n",
       "      <td>1375666413</td>\n",
       "      <td>False</td>\n",
       "      <td>0</td>\n",
       "      <td>False</td>\n",
       "      <td>2391585.0</td>\n",
       "      <td>Detroit</td>\n",
       "      <td>MI</td>\n",
       "      <td>44</td>\n",
       "      <td>World Music</td>\n",
       "      <td>music/world music</td>\n",
       "    </tr>\n",
       "    <tr>\n",
       "      <td>4</td>\n",
       "      <td>Kickstarter</td>\n",
       "      <td>Kickstarter</td>\n",
       "      <td>Kickstarter_2019-07-18T03_20_05_009Z</td>\n",
       "      <td>US</td>\n",
       "      <td>successful</td>\n",
       "      <td>https://www.kickstarter.com/projects/131995875...</td>\n",
       "      <td>1730678034</td>\n",
       "      <td>Let's Commit (to) a MURDER, SHE WROTE Album of...</td>\n",
       "      <td>Songwriter Joel B. New is creating his first-e...</td>\n",
       "      <td>6500.0</td>\n",
       "      <td>...</td>\n",
       "      <td>1457360083</td>\n",
       "      <td>False</td>\n",
       "      <td>165</td>\n",
       "      <td>True</td>\n",
       "      <td>2459115.0</td>\n",
       "      <td>New York</td>\n",
       "      <td>NY</td>\n",
       "      <td>42</td>\n",
       "      <td>Pop</td>\n",
       "      <td>music/pop</td>\n",
       "    </tr>\n",
       "    <tr>\n",
       "      <td>5</td>\n",
       "      <td>Kickstarter</td>\n",
       "      <td>Kickstarter</td>\n",
       "      <td>Kickstarter_2019-07-18T03_20_05_009Z</td>\n",
       "      <td>US</td>\n",
       "      <td>successful</td>\n",
       "      <td>https://www.kickstarter.com/projects/904448565...</td>\n",
       "      <td>25603479</td>\n",
       "      <td>Donald Trump Kiss Leggings - Inspired by H.P. ...</td>\n",
       "      <td>Leggings featuring the head, lips, and skin of...</td>\n",
       "      <td>230.0</td>\n",
       "      <td>...</td>\n",
       "      <td>1441342368</td>\n",
       "      <td>False</td>\n",
       "      <td>15</td>\n",
       "      <td>True</td>\n",
       "      <td>2487956.0</td>\n",
       "      <td>San Francisco</td>\n",
       "      <td>CA</td>\n",
       "      <td>263</td>\n",
       "      <td>Apparel</td>\n",
       "      <td>fashion/apparel</td>\n",
       "    </tr>\n",
       "  </tbody>\n",
       "</table>\n",
       "<p>6 rows × 25 columns</p>\n",
       "</div>"
      ],
      "text/plain": [
       "      table_id     robot_id                                run_id country  \\\n",
       "0  Kickstarter  Kickstarter  Kickstarter_2019-07-18T03_20_05_009Z      US   \n",
       "1  Kickstarter  Kickstarter  Kickstarter_2019-07-18T03_20_05_009Z      US   \n",
       "2  Kickstarter  Kickstarter  Kickstarter_2019-07-18T03_20_05_009Z      US   \n",
       "3  Kickstarter  Kickstarter  Kickstarter_2019-07-18T03_20_05_009Z      US   \n",
       "4  Kickstarter  Kickstarter  Kickstarter_2019-07-18T03_20_05_009Z      US   \n",
       "5  Kickstarter  Kickstarter  Kickstarter_2019-07-18T03_20_05_009Z      US   \n",
       "\n",
       "        state                                        projecturls     data_id  \\\n",
       "0  successful  https://www.kickstarter.com/projects/184955320...   521645557   \n",
       "1      failed  https://www.kickstarter.com/projects/760226815...   504193797   \n",
       "2      failed  https://www.kickstarter.com/projects/143006059...  1667139345   \n",
       "3      failed  https://www.kickstarter.com/projects/533614462...  1389221860   \n",
       "4  successful  https://www.kickstarter.com/projects/131995875...  1730678034   \n",
       "5  successful  https://www.kickstarter.com/projects/904448565...    25603479   \n",
       "\n",
       "                                              d_name  \\\n",
       "0  How to Breathe Underwater/In the Black Box -- ...   \n",
       "1  Backpackable one-person high resolution UAV ma...   \n",
       "2                                         LOVE STORY   \n",
       "3                              Detroit Revue Concert   \n",
       "4  Let's Commit (to) a MURDER, SHE WROTE Album of...   \n",
       "5  Donald Trump Kiss Leggings - Inspired by H.P. ...   \n",
       "\n",
       "                                             d_blurb   d_goal  ...  \\\n",
       "0  A surrealist's guide to navigating the dark de...   1500.0  ...   \n",
       "1  Continue to develop a user friendly one-person...  10000.0  ...   \n",
       "2  LOVE STORY IS ABOUT THE REAL LOVE THAT PEOPLE ...   2500.0  ...   \n",
       "3  Together we can bring a star back on the map o...  35500.0  ...   \n",
       "4  Songwriter Joel B. New is creating his first-e...   6500.0  ...   \n",
       "5  Leggings featuring the head, lips, and skin of...    230.0  ...   \n",
       "\n",
       "   d_launchedat d_staffpick  d_nobackers  d_spotlight  location_id  \\\n",
       "0    1465488766       False           44         True    2356940.0   \n",
       "1    1397105848       False            3        False    2441116.0   \n",
       "2    1376512056       False            5        False    2503713.0   \n",
       "3    1375666413       False            0        False    2391585.0   \n",
       "4    1457360083       False          165         True    2459115.0   \n",
       "5    1441342368       False           15         True    2487956.0   \n",
       "\n",
       "        loc_name  loc_state  category_id     cat_name           cat_slug  \n",
       "0         Athens         GA           42          Pop          music/pop  \n",
       "1          Logan         UT          336       Flight  technology/flight  \n",
       "2    Tallahassee         FL           44  World Music  music/world music  \n",
       "3        Detroit         MI           44  World Music  music/world music  \n",
       "4       New York         NY           42          Pop          music/pop  \n",
       "5  San Francisco         CA          263      Apparel    fashion/apparel  \n",
       "\n",
       "[6 rows x 25 columns]"
      ]
     },
     "execution_count": 70,
     "metadata": {},
     "output_type": "execute_result"
    }
   ],
   "source": [
    "nodupes.head(6)"
   ]
  },
  {
   "cell_type": "code",
   "execution_count": 49,
   "metadata": {},
   "outputs": [],
   "source": [
    "import nltk\n",
    "from nltk.corpus import stopwords\n",
    "from nltk.tokenize import sent_tokenize\n",
    "from nltk.tokenize import word_tokenize\n",
    "from nltk.probability import FreqDist\n",
    "import string\n",
    "import re"
   ]
  },
  {
   "cell_type": "code",
   "execution_count": 64,
   "metadata": {},
   "outputs": [
    {
     "name": "stdout",
     "output_type": "stream",
     "text": [
      "nan\n"
     ]
    }
   ],
   "source": [
    "for i in nodupes['d_blurb']:\n",
    "    if type(i) != str:\n",
    "        i.astype(str)"
   ]
  },
  {
   "cell_type": "code",
   "execution_count": 77,
   "metadata": {},
   "outputs": [
    {
     "name": "stderr",
     "output_type": "stream",
     "text": [
      "/anaconda3/envs/insight/lib/python3.7/site-packages/ipykernel_launcher.py:1: SettingWithCopyWarning: \n",
      "A value is trying to be set on a copy of a slice from a DataFrame.\n",
      "Try using .loc[row_indexer,col_indexer] = value instead\n",
      "\n",
      "See the caveats in the documentation: http://pandas.pydata.org/pandas-docs/stable/user_guide/indexing.html#returning-a-view-versus-a-copy\n",
      "  \"\"\"Entry point for launching an IPython kernel.\n"
     ]
    }
   ],
   "source": [
    "nodupes['d_blurb'] = nodupes['d_blurb'].astype(str)"
   ]
  },
  {
   "cell_type": "code",
   "execution_count": 78,
   "metadata": {},
   "outputs": [
    {
     "data": {
      "text/plain": [
       "pandas.core.series.Series"
      ]
     },
     "execution_count": 78,
     "metadata": {},
     "output_type": "execute_result"
    }
   ],
   "source": [
    "type(nodupes['d_blurb'])"
   ]
  },
  {
   "cell_type": "code",
   "execution_count": null,
   "metadata": {},
   "outputs": [],
   "source": []
  },
  {
   "cell_type": "code",
   "execution_count": 50,
   "metadata": {},
   "outputs": [],
   "source": [
    "# Define a function that cleans strings: lowercase, remove select punctuation, tokenize\n",
    "def clean_text(my_str):\n",
    "    str_low = my_str.lower()\n",
    "    remove = string.punctuation\n",
    "    remove = remove.replace(\".\", \" \").replace(\",\", \" \").replace(\"'\", \" \")\n",
    "    pattern = r\"[{}]\".format(remove) # create the pattern\n",
    "    cleanstr = re.sub(pattern, \" \", str_low)\n",
    "    finalword = word_tokenize(cleanstr)\n",
    "    return finalword"
   ]
  },
  {
   "cell_type": "code",
   "execution_count": 40,
   "metadata": {},
   "outputs": [],
   "source": [
    "en_stop = set(nltk.corpus.stopwords.words('english'))"
   ]
  },
  {
   "cell_type": "code",
   "execution_count": 51,
   "metadata": {},
   "outputs": [],
   "source": [
    "# Define a function that strips all punctuation and stop words\n",
    "def stripper(my_str):\n",
    "    str_low = my_str.lower()\n",
    "    allpunc = string.punctuation\n",
    "    pattern = r\"[{}]\".format(allpunc) # create the pattern\n",
    "    cleanstr = re.sub(pattern, \" \", str_low)\n",
    "    tokenword = word_tokenize(cleanstr)\n",
    "    cleanstr = [word for word in tokenword if word not in en_stop]\n",
    "    return cleanstr"
   ]
  },
  {
   "cell_type": "code",
   "execution_count": 79,
   "metadata": {},
   "outputs": [],
   "source": [
    "# Call functions on blurb to clean the text\n",
    "# Will want to call both functions to create 2 versions and 2 df\n",
    "\n",
    "clean_blurb = []\n",
    "\n",
    "for i in nodupes['d_blurb']:\n",
    "    cleaned = clean_text(i)\n",
    "    clean_blurb.append(cleaned)"
   ]
  },
  {
   "cell_type": "code",
   "execution_count": 80,
   "metadata": {},
   "outputs": [
    {
     "data": {
      "text/plain": [
       "123681"
      ]
     },
     "execution_count": 80,
     "metadata": {},
     "output_type": "execute_result"
    }
   ],
   "source": [
    "len(clean_blurb)"
   ]
  },
  {
   "cell_type": "code",
   "execution_count": 81,
   "metadata": {},
   "outputs": [
    {
     "data": {
      "text/plain": [
       "['providing',\n",
       " 'a',\n",
       " 'platform',\n",
       " 'for',\n",
       " 'free',\n",
       " 'news',\n",
       " ',',\n",
       " 'weather',\n",
       " ',',\n",
       " 'community',\n",
       " ',',\n",
       " 'government',\n",
       " 'and',\n",
       " 'entertainment',\n",
       " 'information',\n",
       " 'to',\n",
       " 'the',\n",
       " 'residents',\n",
       " 'of',\n",
       " 'lewis',\n",
       " 'county',\n",
       " ',',\n",
       " 'ny']"
      ]
     },
     "execution_count": 81,
     "metadata": {},
     "output_type": "execute_result"
    }
   ],
   "source": [
    "clean_blurb[1023]"
   ]
  },
  {
   "cell_type": "code",
   "execution_count": 82,
   "metadata": {},
   "outputs": [
    {
     "name": "stderr",
     "output_type": "stream",
     "text": [
      "/anaconda3/envs/insight/lib/python3.7/site-packages/ipykernel_launcher.py:1: SettingWithCopyWarning: \n",
      "A value is trying to be set on a copy of a slice from a DataFrame.\n",
      "Try using .loc[row_indexer,col_indexer] = value instead\n",
      "\n",
      "See the caveats in the documentation: http://pandas.pydata.org/pandas-docs/stable/user_guide/indexing.html#returning-a-view-versus-a-copy\n",
      "  \"\"\"Entry point for launching an IPython kernel.\n"
     ]
    }
   ],
   "source": [
    "nodupes['cleanblurb'] = clean_blurb"
   ]
  },
  {
   "cell_type": "code",
   "execution_count": 83,
   "metadata": {},
   "outputs": [
    {
     "data": {
      "text/html": [
       "<div>\n",
       "<style scoped>\n",
       "    .dataframe tbody tr th:only-of-type {\n",
       "        vertical-align: middle;\n",
       "    }\n",
       "\n",
       "    .dataframe tbody tr th {\n",
       "        vertical-align: top;\n",
       "    }\n",
       "\n",
       "    .dataframe thead th {\n",
       "        text-align: right;\n",
       "    }\n",
       "</style>\n",
       "<table border=\"1\" class=\"dataframe\">\n",
       "  <thead>\n",
       "    <tr style=\"text-align: right;\">\n",
       "      <th></th>\n",
       "      <th>table_id</th>\n",
       "      <th>robot_id</th>\n",
       "      <th>run_id</th>\n",
       "      <th>country</th>\n",
       "      <th>state</th>\n",
       "      <th>projecturls</th>\n",
       "      <th>data_id</th>\n",
       "      <th>d_name</th>\n",
       "      <th>d_blurb</th>\n",
       "      <th>d_goal</th>\n",
       "      <th>...</th>\n",
       "      <th>d_staffpick</th>\n",
       "      <th>d_nobackers</th>\n",
       "      <th>d_spotlight</th>\n",
       "      <th>location_id</th>\n",
       "      <th>loc_name</th>\n",
       "      <th>loc_state</th>\n",
       "      <th>category_id</th>\n",
       "      <th>cat_name</th>\n",
       "      <th>cat_slug</th>\n",
       "      <th>cleanblurb</th>\n",
       "    </tr>\n",
       "  </thead>\n",
       "  <tbody>\n",
       "    <tr>\n",
       "      <td>65015</td>\n",
       "      <td>Kickstarter</td>\n",
       "      <td>Kickstarter</td>\n",
       "      <td>Kickstarter_2019-07-18T03_20_05_009Z</td>\n",
       "      <td>US</td>\n",
       "      <td>successful</td>\n",
       "      <td>https://www.kickstarter.com/projects/137606118...</td>\n",
       "      <td>1464413429</td>\n",
       "      <td>Bloom: Memories -- A new kind of action advent...</td>\n",
       "      <td>Experience a world and story unlike any other!...</td>\n",
       "      <td>40000.0</td>\n",
       "      <td>...</td>\n",
       "      <td>True</td>\n",
       "      <td>2525</td>\n",
       "      <td>True</td>\n",
       "      <td>2442047.0</td>\n",
       "      <td>Los Angeles</td>\n",
       "      <td>CA</td>\n",
       "      <td>35</td>\n",
       "      <td>Video Games</td>\n",
       "      <td>games/video games</td>\n",
       "      <td>[experience, a, world, and, story, unlike, any...</td>\n",
       "    </tr>\n",
       "    <tr>\n",
       "      <td>117099</td>\n",
       "      <td>Kickstarter</td>\n",
       "      <td>Kickstarter</td>\n",
       "      <td>Kickstarter_2019-07-18T03_20_05_009Z</td>\n",
       "      <td>US</td>\n",
       "      <td>failed</td>\n",
       "      <td>https://www.kickstarter.com/projects/172472171...</td>\n",
       "      <td>984178123</td>\n",
       "      <td>Matthew Gordon Photography</td>\n",
       "      <td>I am a 22 year old photographer from Nashville...</td>\n",
       "      <td>300.0</td>\n",
       "      <td>...</td>\n",
       "      <td>False</td>\n",
       "      <td>3</td>\n",
       "      <td>False</td>\n",
       "      <td>2457170.0</td>\n",
       "      <td>Nashville</td>\n",
       "      <td>TN</td>\n",
       "      <td>276</td>\n",
       "      <td>Fine Art</td>\n",
       "      <td>photography/fine art</td>\n",
       "      <td>[i, am, a, 22, year, old, photographer, from, ...</td>\n",
       "    </tr>\n",
       "    <tr>\n",
       "      <td>88274</td>\n",
       "      <td>Kickstarter</td>\n",
       "      <td>Kickstarter</td>\n",
       "      <td>Kickstarter_2019-07-18T03_20_05_009Z</td>\n",
       "      <td>US</td>\n",
       "      <td>failed</td>\n",
       "      <td>https://www.kickstarter.com/projects/cleveland...</td>\n",
       "      <td>184204384</td>\n",
       "      <td>Cleveland Films Technology Drive</td>\n",
       "      <td>I want to fundraise for a Canon  EOS Digital R...</td>\n",
       "      <td>2500.0</td>\n",
       "      <td>...</td>\n",
       "      <td>False</td>\n",
       "      <td>1</td>\n",
       "      <td>False</td>\n",
       "      <td>2381475.0</td>\n",
       "      <td>Cleveland</td>\n",
       "      <td>OH</td>\n",
       "      <td>333</td>\n",
       "      <td>Camera Equipment</td>\n",
       "      <td>technology/camera equipment</td>\n",
       "      <td>[i, want, to, fundraise, for, a, canon, eos, d...</td>\n",
       "    </tr>\n",
       "  </tbody>\n",
       "</table>\n",
       "<p>3 rows × 26 columns</p>\n",
       "</div>"
      ],
      "text/plain": [
       "           table_id     robot_id                                run_id  \\\n",
       "65015   Kickstarter  Kickstarter  Kickstarter_2019-07-18T03_20_05_009Z   \n",
       "117099  Kickstarter  Kickstarter  Kickstarter_2019-07-18T03_20_05_009Z   \n",
       "88274   Kickstarter  Kickstarter  Kickstarter_2019-07-18T03_20_05_009Z   \n",
       "\n",
       "       country       state                                        projecturls  \\\n",
       "65015       US  successful  https://www.kickstarter.com/projects/137606118...   \n",
       "117099      US      failed  https://www.kickstarter.com/projects/172472171...   \n",
       "88274       US      failed  https://www.kickstarter.com/projects/cleveland...   \n",
       "\n",
       "           data_id                                             d_name  \\\n",
       "65015   1464413429  Bloom: Memories -- A new kind of action advent...   \n",
       "117099   984178123                         Matthew Gordon Photography   \n",
       "88274    184204384                   Cleveland Films Technology Drive   \n",
       "\n",
       "                                                  d_blurb   d_goal  ...  \\\n",
       "65015   Experience a world and story unlike any other!...  40000.0  ...   \n",
       "117099  I am a 22 year old photographer from Nashville...    300.0  ...   \n",
       "88274   I want to fundraise for a Canon  EOS Digital R...   2500.0  ...   \n",
       "\n",
       "        d_staffpick d_nobackers  d_spotlight  location_id     loc_name  \\\n",
       "65015          True        2525         True    2442047.0  Los Angeles   \n",
       "117099        False           3        False    2457170.0    Nashville   \n",
       "88274         False           1        False    2381475.0    Cleveland   \n",
       "\n",
       "        loc_state  category_id          cat_name                     cat_slug  \\\n",
       "65015          CA           35       Video Games            games/video games   \n",
       "117099         TN          276          Fine Art         photography/fine art   \n",
       "88274          OH          333  Camera Equipment  technology/camera equipment   \n",
       "\n",
       "                                               cleanblurb  \n",
       "65015   [experience, a, world, and, story, unlike, any...  \n",
       "117099  [i, am, a, 22, year, old, photographer, from, ...  \n",
       "88274   [i, want, to, fundraise, for, a, canon, eos, d...  \n",
       "\n",
       "[3 rows x 26 columns]"
      ]
     },
     "execution_count": 83,
     "metadata": {},
     "output_type": "execute_result"
    }
   ],
   "source": [
    "nodupes.sample(3)"
   ]
  },
  {
   "cell_type": "code",
   "execution_count": 84,
   "metadata": {},
   "outputs": [],
   "source": [
    "strip_blurb = []\n",
    "\n",
    "for i in nodupes['d_blurb']:\n",
    "    stripped = stripper(i)\n",
    "    strip_blurb.append(stripped)"
   ]
  },
  {
   "cell_type": "code",
   "execution_count": 85,
   "metadata": {},
   "outputs": [
    {
     "data": {
      "text/plain": [
       "123681"
      ]
     },
     "execution_count": 85,
     "metadata": {},
     "output_type": "execute_result"
    }
   ],
   "source": [
    "len(strip_blurb)"
   ]
  },
  {
   "cell_type": "code",
   "execution_count": 88,
   "metadata": {},
   "outputs": [
    {
     "data": {
      "text/html": [
       "<div>\n",
       "<style scoped>\n",
       "    .dataframe tbody tr th:only-of-type {\n",
       "        vertical-align: middle;\n",
       "    }\n",
       "\n",
       "    .dataframe tbody tr th {\n",
       "        vertical-align: top;\n",
       "    }\n",
       "\n",
       "    .dataframe thead th {\n",
       "        text-align: right;\n",
       "    }\n",
       "</style>\n",
       "<table border=\"1\" class=\"dataframe\">\n",
       "  <thead>\n",
       "    <tr style=\"text-align: right;\">\n",
       "      <th></th>\n",
       "      <th>table_id</th>\n",
       "      <th>robot_id</th>\n",
       "      <th>run_id</th>\n",
       "      <th>country</th>\n",
       "      <th>state</th>\n",
       "      <th>projecturls</th>\n",
       "      <th>data_id</th>\n",
       "      <th>d_name</th>\n",
       "      <th>d_blurb</th>\n",
       "      <th>d_goal</th>\n",
       "      <th>...</th>\n",
       "      <th>d_nobackers</th>\n",
       "      <th>d_spotlight</th>\n",
       "      <th>location_id</th>\n",
       "      <th>loc_name</th>\n",
       "      <th>loc_state</th>\n",
       "      <th>category_id</th>\n",
       "      <th>cat_name</th>\n",
       "      <th>cat_slug</th>\n",
       "      <th>cleanblurb</th>\n",
       "      <th>stripblurb</th>\n",
       "    </tr>\n",
       "  </thead>\n",
       "  <tbody>\n",
       "    <tr>\n",
       "      <td>132138</td>\n",
       "      <td>Kickstarter</td>\n",
       "      <td>Kickstarter</td>\n",
       "      <td>Kickstarter_2019-07-18T03_20_05_009Z</td>\n",
       "      <td>US</td>\n",
       "      <td>successful</td>\n",
       "      <td>https://www.kickstarter.com/projects/188070119...</td>\n",
       "      <td>1938535979</td>\n",
       "      <td>Jack Symes' Debut Album: Songs for Moms</td>\n",
       "      <td>Recording, mixing and mastering for my debut, ...</td>\n",
       "      <td>5500.0</td>\n",
       "      <td>...</td>\n",
       "      <td>125</td>\n",
       "      <td>True</td>\n",
       "      <td>2442047.0</td>\n",
       "      <td>Los Angeles</td>\n",
       "      <td>CA</td>\n",
       "      <td>40</td>\n",
       "      <td>Indie Rock</td>\n",
       "      <td>music/indie rock</td>\n",
       "      <td>[recording, ,, mixing, and, mastering, for, my...</td>\n",
       "      <td>[recording, mixing, mastering, debut, 12, trac...</td>\n",
       "    </tr>\n",
       "    <tr>\n",
       "      <td>94703</td>\n",
       "      <td>Kickstarter</td>\n",
       "      <td>Kickstarter</td>\n",
       "      <td>Kickstarter_2019-07-18T03_20_05_009Z</td>\n",
       "      <td>US</td>\n",
       "      <td>failed</td>\n",
       "      <td>https://www.kickstarter.com/projects/100237117...</td>\n",
       "      <td>723768413</td>\n",
       "      <td>Fashion and Body Image Intertwined</td>\n",
       "      <td>The contrasting or similar styles of fashion s...</td>\n",
       "      <td>600.0</td>\n",
       "      <td>...</td>\n",
       "      <td>0</td>\n",
       "      <td>False</td>\n",
       "      <td>2456750.0</td>\n",
       "      <td>Myrtle Beach</td>\n",
       "      <td>SC</td>\n",
       "      <td>278</td>\n",
       "      <td>People</td>\n",
       "      <td>photography/people</td>\n",
       "      <td>[the, contrasting, or, similar, styles, of, fa...</td>\n",
       "      <td>[contrasting, similar, styles, fashion, style,...</td>\n",
       "    </tr>\n",
       "    <tr>\n",
       "      <td>8610</td>\n",
       "      <td>Kickstarter</td>\n",
       "      <td>Kickstarter</td>\n",
       "      <td>Kickstarter_2019-07-18T03_20_05_009Z</td>\n",
       "      <td>US</td>\n",
       "      <td>failed</td>\n",
       "      <td>https://www.kickstarter.com/projects/321230614...</td>\n",
       "      <td>218278167</td>\n",
       "      <td>New Recording Project</td>\n",
       "      <td>Nancy Kelly's long awaited B3 recording projec...</td>\n",
       "      <td>10000.0</td>\n",
       "      <td>...</td>\n",
       "      <td>72</td>\n",
       "      <td>False</td>\n",
       "      <td>12589335.0</td>\n",
       "      <td>Brooklyn</td>\n",
       "      <td>NY</td>\n",
       "      <td>41</td>\n",
       "      <td>Jazz</td>\n",
       "      <td>music/jazz</td>\n",
       "      <td>[nancy, kelly, 's, long, awaited, b3, recordin...</td>\n",
       "      <td>[nancy, kelly, long, awaited, b3, recording, p...</td>\n",
       "    </tr>\n",
       "  </tbody>\n",
       "</table>\n",
       "<p>3 rows × 27 columns</p>\n",
       "</div>"
      ],
      "text/plain": [
       "           table_id     robot_id                                run_id  \\\n",
       "132138  Kickstarter  Kickstarter  Kickstarter_2019-07-18T03_20_05_009Z   \n",
       "94703   Kickstarter  Kickstarter  Kickstarter_2019-07-18T03_20_05_009Z   \n",
       "8610    Kickstarter  Kickstarter  Kickstarter_2019-07-18T03_20_05_009Z   \n",
       "\n",
       "       country       state                                        projecturls  \\\n",
       "132138      US  successful  https://www.kickstarter.com/projects/188070119...   \n",
       "94703       US      failed  https://www.kickstarter.com/projects/100237117...   \n",
       "8610        US      failed  https://www.kickstarter.com/projects/321230614...   \n",
       "\n",
       "           data_id                                   d_name  \\\n",
       "132138  1938535979  Jack Symes' Debut Album: Songs for Moms   \n",
       "94703    723768413       Fashion and Body Image Intertwined   \n",
       "8610     218278167                    New Recording Project   \n",
       "\n",
       "                                                  d_blurb   d_goal  ...  \\\n",
       "132138  Recording, mixing and mastering for my debut, ...   5500.0  ...   \n",
       "94703   The contrasting or similar styles of fashion s...    600.0  ...   \n",
       "8610    Nancy Kelly's long awaited B3 recording projec...  10000.0  ...   \n",
       "\n",
       "        d_nobackers d_spotlight  location_id      loc_name  loc_state  \\\n",
       "132138          125        True    2442047.0   Los Angeles         CA   \n",
       "94703             0       False    2456750.0  Myrtle Beach         SC   \n",
       "8610             72       False   12589335.0      Brooklyn         NY   \n",
       "\n",
       "        category_id    cat_name            cat_slug  \\\n",
       "132138           40  Indie Rock    music/indie rock   \n",
       "94703           278      People  photography/people   \n",
       "8610             41        Jazz          music/jazz   \n",
       "\n",
       "                                               cleanblurb  \\\n",
       "132138  [recording, ,, mixing, and, mastering, for, my...   \n",
       "94703   [the, contrasting, or, similar, styles, of, fa...   \n",
       "8610    [nancy, kelly, 's, long, awaited, b3, recordin...   \n",
       "\n",
       "                                               stripblurb  \n",
       "132138  [recording, mixing, mastering, debut, 12, trac...  \n",
       "94703   [contrasting, similar, styles, fashion, style,...  \n",
       "8610    [nancy, kelly, long, awaited, b3, recording, p...  \n",
       "\n",
       "[3 rows x 27 columns]"
      ]
     },
     "execution_count": 88,
     "metadata": {},
     "output_type": "execute_result"
    }
   ],
   "source": [
    "nodupes.sample(3)"
   ]
  },
  {
   "cell_type": "code",
   "execution_count": 86,
   "metadata": {},
   "outputs": [
    {
     "name": "stderr",
     "output_type": "stream",
     "text": [
      "/anaconda3/envs/insight/lib/python3.7/site-packages/ipykernel_launcher.py:1: SettingWithCopyWarning: \n",
      "A value is trying to be set on a copy of a slice from a DataFrame.\n",
      "Try using .loc[row_indexer,col_indexer] = value instead\n",
      "\n",
      "See the caveats in the documentation: http://pandas.pydata.org/pandas-docs/stable/user_guide/indexing.html#returning-a-view-versus-a-copy\n",
      "  \"\"\"Entry point for launching an IPython kernel.\n"
     ]
    }
   ],
   "source": [
    "nodupes['stripblurb'] = strip_blurb"
   ]
  },
  {
   "cell_type": "code",
   "execution_count": 110,
   "metadata": {},
   "outputs": [
    {
     "data": {
      "text/plain": [
       "FreqDist({'help': 14161, 'new': 12307, 'music': 7794, 'album': 7521, 'world': 7093, 'art': 6993, 'book': 6956, 'first': 6752, 'make': 5924, 'life': 5386, ...})"
      ]
     },
     "execution_count": 110,
     "metadata": {},
     "output_type": "execute_result"
    }
   ],
   "source": [
    "# Get freq distribution of words\n",
    "allWords = []\n",
    "for i in strip_blurb:\n",
    "    allWords += i\n",
    "FreqDist(allWords)\n"
   ]
  },
  {
   "cell_type": "code",
   "execution_count": 113,
   "metadata": {},
   "outputs": [],
   "source": [
    "cfdist = FreqDist(allWords)"
   ]
  },
  {
   "cell_type": "code",
   "execution_count": 119,
   "metadata": {},
   "outputs": [
    {
     "data": {
      "image/png": "[encoded data removed]",
      "text/plain": [
       "<Figure size 432x288 with 1 Axes>"
      ]
     },
     "metadata": {
      "needs_background": "light"
     },
     "output_type": "display_data"
    },
    {
     "data": {
      "text/plain": [
       "<matplotlib.axes._subplots.AxesSubplot at 0x1b2e72c9d0>"
      ]
     },
     "execution_count": 119,
     "metadata": {},
     "output_type": "execute_result"
    }
   ],
   "source": [
    "cfdist.plot(30,cumulative=False)"
   ]
  },
  {
   "cell_type": "code",
   "execution_count": 87,
   "metadata": {},
   "outputs": [],
   "source": []
  },
  {
   "cell_type": "markdown",
   "metadata": {},
   "source": [
    "## Use Google News corpus to train word embeddings"
   ]
  },
  {
   "cell_type": "code",
   "execution_count": 89,
   "metadata": {},
   "outputs": [],
   "source": [
    "import gensim\n",
    "from gensim.models import KeyedVectors"
   ]
  },
  {
   "cell_type": "code",
   "execution_count": 185,
   "metadata": {},
   "outputs": [],
   "source": [
    "# Load vectors directly from the file\n",
    "filename = 'modeling/GoogleNews-vectors-negative300.bin.gz'\n",
    "emb_model = KeyedVectors.load_word2vec_format(filename, binary=True)"
   ]
  },
  {
   "cell_type": "code",
   "execution_count": null,
   "metadata": {},
   "outputs": [],
   "source": [
    "# w2vmodel = KeyedVectors.load_word2vec_format('modeling/GoogleNews-vectors-negative300.bin.gz', binary = True)"
   ]
  },
  {
   "cell_type": "code",
   "execution_count": 186,
   "metadata": {},
   "outputs": [],
   "source": [
    "#For word in list, get embedding, return all vectors\"\"\"\n",
    "def get_vectors(listcol):\n",
    "    vectors = []\n",
    "    for word in listcol: \n",
    "        try:\n",
    "            vector = emb_model[word]\n",
    "            vectors.append(vector)\n",
    "        except KeyError: \n",
    "            pass\n",
    "    return vectors"
   ]
  },
  {
   "cell_type": "code",
   "execution_count": 189,
   "metadata": {},
   "outputs": [
    {
     "name": "stderr",
     "output_type": "stream",
     "text": [
      "/anaconda3/envs/insight/lib/python3.7/site-packages/ipykernel_launcher.py:1: SettingWithCopyWarning: \n",
      "A value is trying to be set on a copy of a slice from a DataFrame.\n",
      "Try using .loc[row_indexer,col_indexer] = value instead\n",
      "\n",
      "See the caveats in the documentation: http://pandas.pydata.org/pandas-docs/stable/user_guide/indexing.html#returning-a-view-versus-a-copy\n",
      "  \"\"\"Entry point for launching an IPython kernel.\n"
     ]
    }
   ],
   "source": [
    "# apply vectors to the clean, tokenized text\n",
    "nodupes['vectors'] = nodupes['cleanblurb'].apply(get_vectors)"
   ]
  },
  {
   "cell_type": "code",
   "execution_count": 253,
   "metadata": {},
   "outputs": [
    {
     "data": {
      "text/html": [
       "<div>\n",
       "<style scoped>\n",
       "    .dataframe tbody tr th:only-of-type {\n",
       "        vertical-align: middle;\n",
       "    }\n",
       "\n",
       "    .dataframe tbody tr th {\n",
       "        vertical-align: top;\n",
       "    }\n",
       "\n",
       "    .dataframe thead th {\n",
       "        text-align: right;\n",
       "    }\n",
       "</style>\n",
       "<table border=\"1\" class=\"dataframe\">\n",
       "  <thead>\n",
       "    <tr style=\"text-align: right;\">\n",
       "      <th></th>\n",
       "      <th>table_id</th>\n",
       "      <th>robot_id</th>\n",
       "      <th>run_id</th>\n",
       "      <th>country</th>\n",
       "      <th>state</th>\n",
       "      <th>projecturls</th>\n",
       "      <th>data_id</th>\n",
       "      <th>d_name</th>\n",
       "      <th>d_blurb</th>\n",
       "      <th>d_goal</th>\n",
       "      <th>...</th>\n",
       "      <th>d_spotlight</th>\n",
       "      <th>location_id</th>\n",
       "      <th>loc_name</th>\n",
       "      <th>loc_state</th>\n",
       "      <th>category_id</th>\n",
       "      <th>cat_name</th>\n",
       "      <th>cat_slug</th>\n",
       "      <th>cleanblurb</th>\n",
       "      <th>stripblurb</th>\n",
       "      <th>vectors</th>\n",
       "    </tr>\n",
       "  </thead>\n",
       "  <tbody>\n",
       "    <tr>\n",
       "      <td>0</td>\n",
       "      <td>Kickstarter</td>\n",
       "      <td>Kickstarter</td>\n",
       "      <td>Kickstarter_2019-07-18T03_20_05_009Z</td>\n",
       "      <td>US</td>\n",
       "      <td>successful</td>\n",
       "      <td>https://www.kickstarter.com/projects/184955320...</td>\n",
       "      <td>521645557</td>\n",
       "      <td>How to Breathe Underwater/In the Black Box -- ...</td>\n",
       "      <td>A surrealist's guide to navigating the dark de...</td>\n",
       "      <td>1500.0</td>\n",
       "      <td>...</td>\n",
       "      <td>True</td>\n",
       "      <td>2356940.0</td>\n",
       "      <td>Athens</td>\n",
       "      <td>GA</td>\n",
       "      <td>42</td>\n",
       "      <td>Pop</td>\n",
       "      <td>music/pop</td>\n",
       "      <td>[a, surrealist, 's, guide, to, navigating, the...</td>\n",
       "      <td>[surrealist, guide, navigating, dark, descent,...</td>\n",
       "      <td>[[-0.072265625, -0.24316406, 0.22558594, 0.667...</td>\n",
       "    </tr>\n",
       "    <tr>\n",
       "      <td>1</td>\n",
       "      <td>Kickstarter</td>\n",
       "      <td>Kickstarter</td>\n",
       "      <td>Kickstarter_2019-07-18T03_20_05_009Z</td>\n",
       "      <td>US</td>\n",
       "      <td>failed</td>\n",
       "      <td>https://www.kickstarter.com/projects/760226815...</td>\n",
       "      <td>504193797</td>\n",
       "      <td>Backpackable one-person high resolution UAV ma...</td>\n",
       "      <td>Continue to develop a user friendly one-person...</td>\n",
       "      <td>10000.0</td>\n",
       "      <td>...</td>\n",
       "      <td>False</td>\n",
       "      <td>2441116.0</td>\n",
       "      <td>Logan</td>\n",
       "      <td>UT</td>\n",
       "      <td>336</td>\n",
       "      <td>Flight</td>\n",
       "      <td>technology/flight</td>\n",
       "      <td>[continue, to, develop, a, user, friendly, one...</td>\n",
       "      <td>[continue, develop, user, friendly, one, perso...</td>\n",
       "      <td>[[-0.044677734, 0.11328125, -0.104003906, 0.25...</td>\n",
       "    </tr>\n",
       "    <tr>\n",
       "      <td>2</td>\n",
       "      <td>Kickstarter</td>\n",
       "      <td>Kickstarter</td>\n",
       "      <td>Kickstarter_2019-07-18T03_20_05_009Z</td>\n",
       "      <td>US</td>\n",
       "      <td>failed</td>\n",
       "      <td>https://www.kickstarter.com/projects/143006059...</td>\n",
       "      <td>1667139345</td>\n",
       "      <td>LOVE STORY</td>\n",
       "      <td>LOVE STORY IS ABOUT THE REAL LOVE THAT PEOPLE ...</td>\n",
       "      <td>2500.0</td>\n",
       "      <td>...</td>\n",
       "      <td>False</td>\n",
       "      <td>2503713.0</td>\n",
       "      <td>Tallahassee</td>\n",
       "      <td>FL</td>\n",
       "      <td>44</td>\n",
       "      <td>World Music</td>\n",
       "      <td>music/world music</td>\n",
       "      <td>[love, story, is, about, the, real, love, that...</td>\n",
       "      <td>[love, story, real, love, people, dont, see, b...</td>\n",
       "      <td>[[0.103027344, -0.15234375, 0.025878906, 0.165...</td>\n",
       "    </tr>\n",
       "  </tbody>\n",
       "</table>\n",
       "<p>3 rows × 28 columns</p>\n",
       "</div>"
      ],
      "text/plain": [
       "      table_id     robot_id                                run_id country  \\\n",
       "0  Kickstarter  Kickstarter  Kickstarter_2019-07-18T03_20_05_009Z      US   \n",
       "1  Kickstarter  Kickstarter  Kickstarter_2019-07-18T03_20_05_009Z      US   \n",
       "2  Kickstarter  Kickstarter  Kickstarter_2019-07-18T03_20_05_009Z      US   \n",
       "\n",
       "        state                                        projecturls     data_id  \\\n",
       "0  successful  https://www.kickstarter.com/projects/184955320...   521645557   \n",
       "1      failed  https://www.kickstarter.com/projects/760226815...   504193797   \n",
       "2      failed  https://www.kickstarter.com/projects/143006059...  1667139345   \n",
       "\n",
       "                                              d_name  \\\n",
       "0  How to Breathe Underwater/In the Black Box -- ...   \n",
       "1  Backpackable one-person high resolution UAV ma...   \n",
       "2                                         LOVE STORY   \n",
       "\n",
       "                                             d_blurb   d_goal  ...  \\\n",
       "0  A surrealist's guide to navigating the dark de...   1500.0  ...   \n",
       "1  Continue to develop a user friendly one-person...  10000.0  ...   \n",
       "2  LOVE STORY IS ABOUT THE REAL LOVE THAT PEOPLE ...   2500.0  ...   \n",
       "\n",
       "   d_spotlight location_id     loc_name  loc_state  category_id     cat_name  \\\n",
       "0         True   2356940.0       Athens         GA           42          Pop   \n",
       "1        False   2441116.0        Logan         UT          336       Flight   \n",
       "2        False   2503713.0  Tallahassee         FL           44  World Music   \n",
       "\n",
       "            cat_slug                                         cleanblurb  \\\n",
       "0          music/pop  [a, surrealist, 's, guide, to, navigating, the...   \n",
       "1  technology/flight  [continue, to, develop, a, user, friendly, one...   \n",
       "2  music/world music  [love, story, is, about, the, real, love, that...   \n",
       "\n",
       "                                          stripblurb  \\\n",
       "0  [surrealist, guide, navigating, dark, descent,...   \n",
       "1  [continue, develop, user, friendly, one, perso...   \n",
       "2  [love, story, real, love, people, dont, see, b...   \n",
       "\n",
       "                                             vectors  \n",
       "0  [[-0.072265625, -0.24316406, 0.22558594, 0.667...  \n",
       "1  [[-0.044677734, 0.11328125, -0.104003906, 0.25...  \n",
       "2  [[0.103027344, -0.15234375, 0.025878906, 0.165...  \n",
       "\n",
       "[3 rows x 28 columns]"
      ]
     },
     "execution_count": 253,
     "metadata": {},
     "output_type": "execute_result"
    }
   ],
   "source": [
    "nodupes.head(3)"
   ]
  },
  {
   "cell_type": "code",
   "execution_count": 256,
   "metadata": {},
   "outputs": [],
   "source": [
    "# pickle dataframe\n",
    "nodupes.to_pickle('ksjuly_nodupes.pkl')"
   ]
  },
  {
   "cell_type": "markdown",
   "metadata": {},
   "source": [
    "# Develop and test function that calculates distances and outputs responses"
   ]
  },
  {
   "cell_type": "code",
   "execution_count": 198,
   "metadata": {},
   "outputs": [],
   "source": [
    "nodupes_test = nodupes.copy()"
   ]
  },
  {
   "cell_type": "code",
   "execution_count": 199,
   "metadata": {},
   "outputs": [
    {
     "data": {
      "text/html": [
       "<div>\n",
       "<style scoped>\n",
       "    .dataframe tbody tr th:only-of-type {\n",
       "        vertical-align: middle;\n",
       "    }\n",
       "\n",
       "    .dataframe tbody tr th {\n",
       "        vertical-align: top;\n",
       "    }\n",
       "\n",
       "    .dataframe thead th {\n",
       "        text-align: right;\n",
       "    }\n",
       "</style>\n",
       "<table border=\"1\" class=\"dataframe\">\n",
       "  <thead>\n",
       "    <tr style=\"text-align: right;\">\n",
       "      <th></th>\n",
       "      <th>table_id</th>\n",
       "      <th>robot_id</th>\n",
       "      <th>run_id</th>\n",
       "      <th>country</th>\n",
       "      <th>state</th>\n",
       "      <th>projecturls</th>\n",
       "      <th>data_id</th>\n",
       "      <th>d_name</th>\n",
       "      <th>d_blurb</th>\n",
       "      <th>d_goal</th>\n",
       "      <th>...</th>\n",
       "      <th>d_spotlight</th>\n",
       "      <th>location_id</th>\n",
       "      <th>loc_name</th>\n",
       "      <th>loc_state</th>\n",
       "      <th>category_id</th>\n",
       "      <th>cat_name</th>\n",
       "      <th>cat_slug</th>\n",
       "      <th>cleanblurb</th>\n",
       "      <th>stripblurb</th>\n",
       "      <th>vectors</th>\n",
       "    </tr>\n",
       "  </thead>\n",
       "  <tbody>\n",
       "    <tr>\n",
       "      <td>0</td>\n",
       "      <td>Kickstarter</td>\n",
       "      <td>Kickstarter</td>\n",
       "      <td>Kickstarter_2019-07-18T03_20_05_009Z</td>\n",
       "      <td>US</td>\n",
       "      <td>successful</td>\n",
       "      <td>https://www.kickstarter.com/projects/184955320...</td>\n",
       "      <td>521645557</td>\n",
       "      <td>How to Breathe Underwater/In the Black Box -- ...</td>\n",
       "      <td>A surrealist's guide to navigating the dark de...</td>\n",
       "      <td>1500.0</td>\n",
       "      <td>...</td>\n",
       "      <td>True</td>\n",
       "      <td>2356940.0</td>\n",
       "      <td>Athens</td>\n",
       "      <td>GA</td>\n",
       "      <td>42</td>\n",
       "      <td>Pop</td>\n",
       "      <td>music/pop</td>\n",
       "      <td>[a, surrealist, 's, guide, to, navigating, the...</td>\n",
       "      <td>[surrealist, guide, navigating, dark, descent,...</td>\n",
       "      <td>[[-0.072265625, -0.24316406, 0.22558594, 0.667...</td>\n",
       "    </tr>\n",
       "    <tr>\n",
       "      <td>1</td>\n",
       "      <td>Kickstarter</td>\n",
       "      <td>Kickstarter</td>\n",
       "      <td>Kickstarter_2019-07-18T03_20_05_009Z</td>\n",
       "      <td>US</td>\n",
       "      <td>failed</td>\n",
       "      <td>https://www.kickstarter.com/projects/760226815...</td>\n",
       "      <td>504193797</td>\n",
       "      <td>Backpackable one-person high resolution UAV ma...</td>\n",
       "      <td>Continue to develop a user friendly one-person...</td>\n",
       "      <td>10000.0</td>\n",
       "      <td>...</td>\n",
       "      <td>False</td>\n",
       "      <td>2441116.0</td>\n",
       "      <td>Logan</td>\n",
       "      <td>UT</td>\n",
       "      <td>336</td>\n",
       "      <td>Flight</td>\n",
       "      <td>technology/flight</td>\n",
       "      <td>[continue, to, develop, a, user, friendly, one...</td>\n",
       "      <td>[continue, develop, user, friendly, one, perso...</td>\n",
       "      <td>[[-0.044677734, 0.11328125, -0.104003906, 0.25...</td>\n",
       "    </tr>\n",
       "    <tr>\n",
       "      <td>2</td>\n",
       "      <td>Kickstarter</td>\n",
       "      <td>Kickstarter</td>\n",
       "      <td>Kickstarter_2019-07-18T03_20_05_009Z</td>\n",
       "      <td>US</td>\n",
       "      <td>failed</td>\n",
       "      <td>https://www.kickstarter.com/projects/143006059...</td>\n",
       "      <td>1667139345</td>\n",
       "      <td>LOVE STORY</td>\n",
       "      <td>LOVE STORY IS ABOUT THE REAL LOVE THAT PEOPLE ...</td>\n",
       "      <td>2500.0</td>\n",
       "      <td>...</td>\n",
       "      <td>False</td>\n",
       "      <td>2503713.0</td>\n",
       "      <td>Tallahassee</td>\n",
       "      <td>FL</td>\n",
       "      <td>44</td>\n",
       "      <td>World Music</td>\n",
       "      <td>music/world music</td>\n",
       "      <td>[love, story, is, about, the, real, love, that...</td>\n",
       "      <td>[love, story, real, love, people, dont, see, b...</td>\n",
       "      <td>[[0.103027344, -0.15234375, 0.025878906, 0.165...</td>\n",
       "    </tr>\n",
       "  </tbody>\n",
       "</table>\n",
       "<p>3 rows × 28 columns</p>\n",
       "</div>"
      ],
      "text/plain": [
       "      table_id     robot_id                                run_id country  \\\n",
       "0  Kickstarter  Kickstarter  Kickstarter_2019-07-18T03_20_05_009Z      US   \n",
       "1  Kickstarter  Kickstarter  Kickstarter_2019-07-18T03_20_05_009Z      US   \n",
       "2  Kickstarter  Kickstarter  Kickstarter_2019-07-18T03_20_05_009Z      US   \n",
       "\n",
       "        state                                        projecturls     data_id  \\\n",
       "0  successful  https://www.kickstarter.com/projects/184955320...   521645557   \n",
       "1      failed  https://www.kickstarter.com/projects/760226815...   504193797   \n",
       "2      failed  https://www.kickstarter.com/projects/143006059...  1667139345   \n",
       "\n",
       "                                              d_name  \\\n",
       "0  How to Breathe Underwater/In the Black Box -- ...   \n",
       "1  Backpackable one-person high resolution UAV ma...   \n",
       "2                                         LOVE STORY   \n",
       "\n",
       "                                             d_blurb   d_goal  ...  \\\n",
       "0  A surrealist's guide to navigating the dark de...   1500.0  ...   \n",
       "1  Continue to develop a user friendly one-person...  10000.0  ...   \n",
       "2  LOVE STORY IS ABOUT THE REAL LOVE THAT PEOPLE ...   2500.0  ...   \n",
       "\n",
       "   d_spotlight location_id     loc_name  loc_state  category_id     cat_name  \\\n",
       "0         True   2356940.0       Athens         GA           42          Pop   \n",
       "1        False   2441116.0        Logan         UT          336       Flight   \n",
       "2        False   2503713.0  Tallahassee         FL           44  World Music   \n",
       "\n",
       "            cat_slug                                         cleanblurb  \\\n",
       "0          music/pop  [a, surrealist, 's, guide, to, navigating, the...   \n",
       "1  technology/flight  [continue, to, develop, a, user, friendly, one...   \n",
       "2  music/world music  [love, story, is, about, the, real, love, that...   \n",
       "\n",
       "                                          stripblurb  \\\n",
       "0  [surrealist, guide, navigating, dark, descent,...   \n",
       "1  [continue, develop, user, friendly, one, perso...   \n",
       "2  [love, story, real, love, people, dont, see, b...   \n",
       "\n",
       "                                             vectors  \n",
       "0  [[-0.072265625, -0.24316406, 0.22558594, 0.667...  \n",
       "1  [[-0.044677734, 0.11328125, -0.104003906, 0.25...  \n",
       "2  [[0.103027344, -0.15234375, 0.025878906, 0.165...  \n",
       "\n",
       "[3 rows x 28 columns]"
      ]
     },
     "execution_count": 199,
     "metadata": {},
     "output_type": "execute_result"
    }
   ],
   "source": [
    "nodupes_test.head(3)"
   ]
  },
  {
   "cell_type": "code",
   "execution_count": 135,
   "metadata": {},
   "outputs": [],
   "source": [
    "from pyemd import emd"
   ]
  },
  {
   "cell_type": "code",
   "execution_count": 280,
   "metadata": {},
   "outputs": [],
   "source": [
    "def ideavetter():\n",
    "    # accept user input\n",
    "    text = input(\"Pitch your idea here: \")\n",
    "    \n",
    "    # clean and tokenize user input\n",
    "    clean_input = clean_text(text)\n",
    "    \n",
    "    # get vectors for input text\n",
    "#     input_vecs = get_vectors(clean_input)\n",
    "    \n",
    "    # calculate WMD distance\n",
    "    input_list = []\n",
    "    for i in appdf_sub['cleanblurb']:\n",
    "        distance = emb_model.wmdistance(clean_input, i)\n",
    "        input_list.append(distance)\n",
    "        \n",
    "    # add input_veclist to df\n",
    "    appdf_sub['distance'] = input_list\n",
    "    \n",
    "    # sort dataframe in ascending order by distance\n",
    "    appdf_sub.sort_values(by=['distance'])\n",
    "    \n",
    "    # return url for top 3 rows\n",
    "    for i in appdf_sub['state']:\n",
    "        if i == 'successful':\n",
    "            return print(appdf_sub['projecturls'].head(3))\n",
    "    \n"
   ]
  },
  {
   "cell_type": "code",
   "execution_count": 281,
   "metadata": {},
   "outputs": [
    {
     "name": "stdin",
     "output_type": "stream",
     "text": [
      "Pitch your idea here:  A new album by the Killer Bees taking experimental sound to the next level\n"
     ]
    },
    {
     "name": "stdout",
     "output_type": "stream",
     "text": [
      "27735     https://www.kickstarter.com/projects/771995697...\n",
      "113297    https://www.kickstarter.com/projects/michelles...\n",
      "102001    https://www.kickstarter.com/projects/189928915...\n",
      "Name: projecturls, dtype: object\n"
     ]
    }
   ],
   "source": [
    "ideavetter()"
   ]
  },
  {
   "cell_type": "code",
   "execution_count": 266,
   "metadata": {},
   "outputs": [],
   "source": [
    "appdf = nodupes[['projecturls', 'state', 'cat_name', 'cat_slug', 'cleanblurb', 'stripblurb']].copy()"
   ]
  },
  {
   "cell_type": "code",
   "execution_count": 267,
   "metadata": {},
   "outputs": [
    {
     "data": {
      "text/html": [
       "<div>\n",
       "<style scoped>\n",
       "    .dataframe tbody tr th:only-of-type {\n",
       "        vertical-align: middle;\n",
       "    }\n",
       "\n",
       "    .dataframe tbody tr th {\n",
       "        vertical-align: top;\n",
       "    }\n",
       "\n",
       "    .dataframe thead th {\n",
       "        text-align: right;\n",
       "    }\n",
       "</style>\n",
       "<table border=\"1\" class=\"dataframe\">\n",
       "  <thead>\n",
       "    <tr style=\"text-align: right;\">\n",
       "      <th></th>\n",
       "      <th>projecturls</th>\n",
       "      <th>state</th>\n",
       "      <th>cat_name</th>\n",
       "      <th>cat_slug</th>\n",
       "      <th>cleanblurb</th>\n",
       "      <th>stripblurb</th>\n",
       "    </tr>\n",
       "  </thead>\n",
       "  <tbody>\n",
       "    <tr>\n",
       "      <td>0</td>\n",
       "      <td>https://www.kickstarter.com/projects/184955320...</td>\n",
       "      <td>successful</td>\n",
       "      <td>Pop</td>\n",
       "      <td>music/pop</td>\n",
       "      <td>[a, surrealist, 's, guide, to, navigating, the...</td>\n",
       "      <td>[surrealist, guide, navigating, dark, descent,...</td>\n",
       "    </tr>\n",
       "    <tr>\n",
       "      <td>1</td>\n",
       "      <td>https://www.kickstarter.com/projects/760226815...</td>\n",
       "      <td>failed</td>\n",
       "      <td>Flight</td>\n",
       "      <td>technology/flight</td>\n",
       "      <td>[continue, to, develop, a, user, friendly, one...</td>\n",
       "      <td>[continue, develop, user, friendly, one, perso...</td>\n",
       "    </tr>\n",
       "    <tr>\n",
       "      <td>2</td>\n",
       "      <td>https://www.kickstarter.com/projects/143006059...</td>\n",
       "      <td>failed</td>\n",
       "      <td>World Music</td>\n",
       "      <td>music/world music</td>\n",
       "      <td>[love, story, is, about, the, real, love, that...</td>\n",
       "      <td>[love, story, real, love, people, dont, see, b...</td>\n",
       "    </tr>\n",
       "  </tbody>\n",
       "</table>\n",
       "</div>"
      ],
      "text/plain": [
       "                                         projecturls       state     cat_name  \\\n",
       "0  https://www.kickstarter.com/projects/184955320...  successful          Pop   \n",
       "1  https://www.kickstarter.com/projects/760226815...      failed       Flight   \n",
       "2  https://www.kickstarter.com/projects/143006059...      failed  World Music   \n",
       "\n",
       "            cat_slug                                         cleanblurb  \\\n",
       "0          music/pop  [a, surrealist, 's, guide, to, navigating, the...   \n",
       "1  technology/flight  [continue, to, develop, a, user, friendly, one...   \n",
       "2  music/world music  [love, story, is, about, the, real, love, that...   \n",
       "\n",
       "                                          stripblurb  \n",
       "0  [surrealist, guide, navigating, dark, descent,...  \n",
       "1  [continue, develop, user, friendly, one, perso...  \n",
       "2  [love, story, real, love, people, dont, see, b...  "
      ]
     },
     "execution_count": 267,
     "metadata": {},
     "output_type": "execute_result"
    }
   ],
   "source": [
    "appdf.head(3)"
   ]
  },
  {
   "cell_type": "code",
   "execution_count": null,
   "metadata": {},
   "outputs": [],
   "source": [
    "# pickle dataframe\n",
    "appdf.to_pickle('appdf.pkl')"
   ]
  },
  {
   "cell_type": "code",
   "execution_count": 278,
   "metadata": {},
   "outputs": [],
   "source": [
    "appdf_sub = appdf.sample(50000)"
   ]
  },
  {
   "cell_type": "code",
   "execution_count": 279,
   "metadata": {},
   "outputs": [
    {
     "data": {
      "text/plain": [
       "(50000, 7)"
      ]
     },
     "execution_count": 279,
     "metadata": {},
     "output_type": "execute_result"
    }
   ],
   "source": [
    "appdf_sub.shape"
   ]
  },
  {
   "cell_type": "code",
   "execution_count": 282,
   "metadata": {},
   "outputs": [],
   "source": [
    "appdf_sub.to_pickle('appdf_sub.pkl')"
   ]
  },
  {
   "cell_type": "code",
   "execution_count": 165,
   "metadata": {},
   "outputs": [],
   "source": [
    "my_str1 = \"Crafting eco-friendly shoes from materials recycled from the ocean\"\n",
    "my_str2 = \"A new album by the Killer Bees taking experimental sound to the next level\""
   ]
  },
  {
   "cell_type": "code",
   "execution_count": 246,
   "metadata": {},
   "outputs": [],
   "source": [
    "# clean and tokenize user input\n",
    "clean_input = clean_text(my_str2)"
   ]
  },
  {
   "cell_type": "code",
   "execution_count": 249,
   "metadata": {},
   "outputs": [],
   "source": [
    "# calculate WMD distance\n",
    "input_list = []\n",
    "for i in df_sub['cleanblurb']:\n",
    "    distance = emb_model.wmdistance(clean_input, i)\n",
    "    input_list.append(distance)"
   ]
  },
  {
   "cell_type": "code",
   "execution_count": 250,
   "metadata": {},
   "outputs": [
    {
     "data": {
      "text/plain": [
       "[2.809121408392523,\n",
       " 2.8841823037779077,\n",
       " 2.806755409623183,\n",
       " 2.8176570710790054,\n",
       " 2.686938151765494,\n",
       " 3.0027385286310326,\n",
       " 2.674350930927714,\n",
       " 2.8261200536396354,\n",
       " 2.5170833860907074,\n",
       " 3.0824890975474624]"
      ]
     },
     "execution_count": 250,
     "metadata": {},
     "output_type": "execute_result"
    }
   ],
   "source": [
    "input_list"
   ]
  },
  {
   "cell_type": "code",
   "execution_count": 241,
   "metadata": {},
   "outputs": [],
   "source": [
    "distance = emb_model.wmdistance(my_str1, df_sub['cleanblurb'][2])"
   ]
  },
  {
   "cell_type": "code",
   "execution_count": 242,
   "metadata": {},
   "outputs": [
    {
     "data": {
      "text/plain": [
       "3.225436541857087"
      ]
     },
     "execution_count": 242,
     "metadata": {},
     "output_type": "execute_result"
    }
   ],
   "source": [
    "distance"
   ]
  },
  {
   "cell_type": "code",
   "execution_count": 247,
   "metadata": {},
   "outputs": [
    {
     "data": {
      "text/plain": [
       "['a',\n",
       " 'new',\n",
       " 'album',\n",
       " 'by',\n",
       " 'the',\n",
       " 'killer',\n",
       " 'bees',\n",
       " 'taking',\n",
       " 'experimental',\n",
       " 'sound',\n",
       " 'to',\n",
       " 'the',\n",
       " 'next',\n",
       " 'level']"
      ]
     },
     "execution_count": 247,
     "metadata": {},
     "output_type": "execute_result"
    }
   ],
   "source": [
    "clean_input"
   ]
  },
  {
   "cell_type": "code",
   "execution_count": null,
   "metadata": {},
   "outputs": [],
   "source": [
    "# convert unix time to utc\n",
    "# import datetime\n",
    "# date = datetime.datetime.fromtimestamp(customTimestamp)\n",
    "# print(date.strftime('%Y-%m-%d %H:%M:%S'))"
   ]
  },
  {
   "cell_type": "code",
   "execution_count": null,
   "metadata": {},
   "outputs": [],
   "source": []
  },
  {
   "cell_type": "code",
   "execution_count": null,
   "metadata": {},
   "outputs": [],
   "source": []
  },
  {
   "cell_type": "code",
   "execution_count": null,
   "metadata": {},
   "outputs": [],
   "source": []
  }
 ],
 "metadata": {
  "kernelspec": {
   "display_name": "Python 3",
   "language": "python",
   "name": "python3"
  },
  "language_info": {
   "codemirror_mode": {
    "name": "ipython",
    "version": 3
   },
   "file_extension": ".py",
   "mimetype": "text/x-python",
   "name": "python",
   "nbconvert_exporter": "python",
   "pygments_lexer": "ipython3",
   "version": "3.7.4"
  }
 },
 "nbformat": 4,
 "nbformat_minor": 4
}
