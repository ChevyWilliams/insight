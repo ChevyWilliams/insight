{
 "cells": [
  {
   "cell_type": "markdown",
   "metadata": {},
   "source": [
    "# Load data into Postgres\n",
    "- Create DB\n",
    "- Load Data\n",
    "- Test"
   ]
  },
  {
   "cell_type": "code",
   "execution_count": 2,
   "metadata": {},
   "outputs": [
    {
     "name": "stderr",
     "output_type": "stream",
     "text": [
      "/anaconda3/envs/insight/lib/python3.7/site-packages/sqlalchemy/sql/functions.py:67: SAWarning: The GenericFunction 'array_agg' is already registered and is going to be overriden.\n",
      "  \"is going to be overriden.\".format(identifier)\n"
     ]
    }
   ],
   "source": [
    "# Load packages\n",
    "\n",
    "from sqlalchemy import create_engine\n",
    "from sqlalchemy_utils import database_exists, create_database\n",
    "import psycopg2\n",
    "import pandas as pd"
   ]
  },
  {
   "cell_type": "markdown",
   "metadata": {},
   "source": [
    "## Start Server before proceeding"
   ]
  },
  {
   "cell_type": "code",
   "execution_count": 3,
   "metadata": {},
   "outputs": [],
   "source": [
    "# Define a database name (we're using a dataset on births, so we'll call it birth_db)\n",
    "# Set your postgres username\n",
    "dbname = 'ideavetter'\n",
    "username = 'chevy' # change this to your username"
   ]
  },
  {
   "cell_type": "code",
   "execution_count": 4,
   "metadata": {},
   "outputs": [
    {
     "name": "stdout",
     "output_type": "stream",
     "text": [
      "postgres://chevy@localhost/ideavetter\n"
     ]
    }
   ],
   "source": [
    "## 'engine' is a connection to a database\n",
    "## Here, we're using postgres, but sqlalchemy can connect to other things too.\n",
    "engine = create_engine('postgres://%s@localhost/%s'%(username,dbname))\n",
    "print(engine.url)"
   ]
  },
  {
   "cell_type": "code",
   "execution_count": 5,
   "metadata": {},
   "outputs": [
    {
     "name": "stdout",
     "output_type": "stream",
     "text": [
      "True\n"
     ]
    }
   ],
   "source": [
    "## create a database (if it doesn't exist)\n",
    "if not database_exists(engine.url):\n",
    "    create_database(engine.url)\n",
    "print(database_exists(engine.url))"
   ]
  },
  {
   "cell_type": "code",
   "execution_count": 6,
   "metadata": {},
   "outputs": [],
   "source": [
    "# read a database from CSV and load it into a pandas dataframe\n",
    "ks_july_nineteen = pd.read_csv('ks_struct_nodata.csv', sep='\\t', index_col=0)"
   ]
  },
  {
   "cell_type": "code",
   "execution_count": 7,
   "metadata": {},
   "outputs": [],
   "source": [
    "## insert data into database from Python (proof of concept - this won't be useful for big data, of course)\n",
    "ks_july_nineteen.to_sql('ksjuly_nineteen_table', engine, if_exists='replace')"
   ]
  },
  {
   "cell_type": "code",
   "execution_count": 8,
   "metadata": {},
   "outputs": [
    {
     "data": {
      "text/html": [
       "<div>\n",
       "<style scoped>\n",
       "    .dataframe tbody tr th:only-of-type {\n",
       "        vertical-align: middle;\n",
       "    }\n",
       "\n",
       "    .dataframe tbody tr th {\n",
       "        vertical-align: top;\n",
       "    }\n",
       "\n",
       "    .dataframe thead th {\n",
       "        text-align: right;\n",
       "    }\n",
       "</style>\n",
       "<table border=\"1\" class=\"dataframe\">\n",
       "  <thead>\n",
       "    <tr style=\"text-align: right;\">\n",
       "      <th></th>\n",
       "      <th>table_id</th>\n",
       "      <th>robot_id</th>\n",
       "      <th>run_id</th>\n",
       "      <th>country</th>\n",
       "      <th>state</th>\n",
       "      <th>projecturls</th>\n",
       "      <th>data_id</th>\n",
       "      <th>d_name</th>\n",
       "      <th>d_blurb</th>\n",
       "      <th>d_goal</th>\n",
       "      <th>...</th>\n",
       "      <th>d_launchedat</th>\n",
       "      <th>d_staffpick</th>\n",
       "      <th>d_nobackers</th>\n",
       "      <th>d_spotlight</th>\n",
       "      <th>location_id</th>\n",
       "      <th>loc_name</th>\n",
       "      <th>loc_state</th>\n",
       "      <th>category_id</th>\n",
       "      <th>cat_name</th>\n",
       "      <th>cat_slug</th>\n",
       "    </tr>\n",
       "  </thead>\n",
       "  <tbody>\n",
       "    <tr>\n",
       "      <td>0</td>\n",
       "      <td>Kickstarter</td>\n",
       "      <td>Kickstarter</td>\n",
       "      <td>Kickstarter_2019-07-18T03_20_05_009Z</td>\n",
       "      <td>US</td>\n",
       "      <td>failed</td>\n",
       "      <td>https://www.kickstarter.com/projects/760226815...</td>\n",
       "      <td>504193797</td>\n",
       "      <td>Backpackable one-person high resolution UAV ma...</td>\n",
       "      <td>Continue to develop a user friendly one-person...</td>\n",
       "      <td>10000.0</td>\n",
       "      <td>...</td>\n",
       "      <td>1397105848</td>\n",
       "      <td>False</td>\n",
       "      <td>3</td>\n",
       "      <td>False</td>\n",
       "      <td>2441116.0</td>\n",
       "      <td>Logan</td>\n",
       "      <td>UT</td>\n",
       "      <td>336</td>\n",
       "      <td>Flight</td>\n",
       "      <td>technology/flight</td>\n",
       "    </tr>\n",
       "    <tr>\n",
       "      <td>1</td>\n",
       "      <td>Kickstarter</td>\n",
       "      <td>Kickstarter</td>\n",
       "      <td>Kickstarter_2019-07-18T03_20_05_009Z</td>\n",
       "      <td>US</td>\n",
       "      <td>failed</td>\n",
       "      <td>https://www.kickstarter.com/projects/143006059...</td>\n",
       "      <td>1667139345</td>\n",
       "      <td>LOVE STORY</td>\n",
       "      <td>LOVE STORY IS ABOUT THE REAL LOVE THAT PEOPLE ...</td>\n",
       "      <td>2500.0</td>\n",
       "      <td>...</td>\n",
       "      <td>1376512056</td>\n",
       "      <td>False</td>\n",
       "      <td>5</td>\n",
       "      <td>False</td>\n",
       "      <td>2503713.0</td>\n",
       "      <td>Tallahassee</td>\n",
       "      <td>FL</td>\n",
       "      <td>44</td>\n",
       "      <td>World Music</td>\n",
       "      <td>music/world music</td>\n",
       "    </tr>\n",
       "    <tr>\n",
       "      <td>2</td>\n",
       "      <td>Kickstarter</td>\n",
       "      <td>Kickstarter</td>\n",
       "      <td>Kickstarter_2019-07-18T03_20_05_009Z</td>\n",
       "      <td>US</td>\n",
       "      <td>failed</td>\n",
       "      <td>https://www.kickstarter.com/projects/533614462...</td>\n",
       "      <td>1389221860</td>\n",
       "      <td>Detroit Revue Concert</td>\n",
       "      <td>Together we can bring a star back on the map o...</td>\n",
       "      <td>35500.0</td>\n",
       "      <td>...</td>\n",
       "      <td>1375666413</td>\n",
       "      <td>False</td>\n",
       "      <td>0</td>\n",
       "      <td>False</td>\n",
       "      <td>2391585.0</td>\n",
       "      <td>Detroit</td>\n",
       "      <td>MI</td>\n",
       "      <td>44</td>\n",
       "      <td>World Music</td>\n",
       "      <td>music/world music</td>\n",
       "    </tr>\n",
       "    <tr>\n",
       "      <td>3</td>\n",
       "      <td>Kickstarter</td>\n",
       "      <td>Kickstarter</td>\n",
       "      <td>Kickstarter_2019-07-18T03_20_05_009Z</td>\n",
       "      <td>US</td>\n",
       "      <td>failed</td>\n",
       "      <td>https://www.kickstarter.com/projects/abandoned...</td>\n",
       "      <td>895999612</td>\n",
       "      <td>Abandoned Route 66 - a view into times long gone.</td>\n",
       "      <td>Working on a coffee table book, featuring nigh...</td>\n",
       "      <td>25000.0</td>\n",
       "      <td>...</td>\n",
       "      <td>1534625565</td>\n",
       "      <td>False</td>\n",
       "      <td>12</td>\n",
       "      <td>False</td>\n",
       "      <td>2467662.0</td>\n",
       "      <td>Palm Bay</td>\n",
       "      <td>FL</td>\n",
       "      <td>280</td>\n",
       "      <td>Photobooks</td>\n",
       "      <td>photography/photobooks</td>\n",
       "    </tr>\n",
       "    <tr>\n",
       "      <td>4</td>\n",
       "      <td>Kickstarter</td>\n",
       "      <td>Kickstarter</td>\n",
       "      <td>Kickstarter_2019-07-18T03_20_05_009Z</td>\n",
       "      <td>US</td>\n",
       "      <td>failed</td>\n",
       "      <td>https://www.kickstarter.com/projects/708883546...</td>\n",
       "      <td>1786140982</td>\n",
       "      <td>7ess</td>\n",
       "      <td>When the white Tee is The Daily Make it 7ees\\r...</td>\n",
       "      <td>1500.0</td>\n",
       "      <td>...</td>\n",
       "      <td>1505243083</td>\n",
       "      <td>False</td>\n",
       "      <td>2</td>\n",
       "      <td>False</td>\n",
       "      <td>2423203.0</td>\n",
       "      <td>Hollister</td>\n",
       "      <td>CA</td>\n",
       "      <td>269</td>\n",
       "      <td>Ready-to-wear</td>\n",
       "      <td>fashion/ready-to-wear</td>\n",
       "    </tr>\n",
       "  </tbody>\n",
       "</table>\n",
       "<p>5 rows × 25 columns</p>\n",
       "</div>"
      ],
      "text/plain": [
       "      table_id     robot_id                                run_id country  \\\n",
       "0  Kickstarter  Kickstarter  Kickstarter_2019-07-18T03_20_05_009Z      US   \n",
       "1  Kickstarter  Kickstarter  Kickstarter_2019-07-18T03_20_05_009Z      US   \n",
       "2  Kickstarter  Kickstarter  Kickstarter_2019-07-18T03_20_05_009Z      US   \n",
       "3  Kickstarter  Kickstarter  Kickstarter_2019-07-18T03_20_05_009Z      US   \n",
       "4  Kickstarter  Kickstarter  Kickstarter_2019-07-18T03_20_05_009Z      US   \n",
       "\n",
       "    state                                        projecturls     data_id  \\\n",
       "0  failed  https://www.kickstarter.com/projects/760226815...   504193797   \n",
       "1  failed  https://www.kickstarter.com/projects/143006059...  1667139345   \n",
       "2  failed  https://www.kickstarter.com/projects/533614462...  1389221860   \n",
       "3  failed  https://www.kickstarter.com/projects/abandoned...   895999612   \n",
       "4  failed  https://www.kickstarter.com/projects/708883546...  1786140982   \n",
       "\n",
       "                                              d_name  \\\n",
       "0  Backpackable one-person high resolution UAV ma...   \n",
       "1                                         LOVE STORY   \n",
       "2                              Detroit Revue Concert   \n",
       "3  Abandoned Route 66 - a view into times long gone.   \n",
       "4                                               7ess   \n",
       "\n",
       "                                             d_blurb   d_goal  ...  \\\n",
       "0  Continue to develop a user friendly one-person...  10000.0  ...   \n",
       "1  LOVE STORY IS ABOUT THE REAL LOVE THAT PEOPLE ...   2500.0  ...   \n",
       "2  Together we can bring a star back on the map o...  35500.0  ...   \n",
       "3  Working on a coffee table book, featuring nigh...  25000.0  ...   \n",
       "4  When the white Tee is The Daily Make it 7ees\\r...   1500.0  ...   \n",
       "\n",
       "   d_launchedat d_staffpick  d_nobackers  d_spotlight  location_id  \\\n",
       "0    1397105848       False            3        False    2441116.0   \n",
       "1    1376512056       False            5        False    2503713.0   \n",
       "2    1375666413       False            0        False    2391585.0   \n",
       "3    1534625565       False           12        False    2467662.0   \n",
       "4    1505243083       False            2        False    2423203.0   \n",
       "\n",
       "      loc_name  loc_state  category_id       cat_name                cat_slug  \n",
       "0        Logan         UT          336         Flight       technology/flight  \n",
       "1  Tallahassee         FL           44    World Music       music/world music  \n",
       "2      Detroit         MI           44    World Music       music/world music  \n",
       "3     Palm Bay         FL          280     Photobooks  photography/photobooks  \n",
       "4    Hollister         CA          269  Ready-to-wear   fashion/ready-to-wear  \n",
       "\n",
       "[5 rows x 25 columns]"
      ]
     },
     "execution_count": 8,
     "metadata": {},
     "output_type": "execute_result"
    }
   ],
   "source": [
    "# Connect to make queries using psycopg2\n",
    "con = None\n",
    "con = psycopg2.connect(database = dbname, user = username)\n",
    "\n",
    "# query:\n",
    "sql_query = \"\"\"\n",
    "SELECT * FROM ksjuly_nineteen_table WHERE state = 'failed';\n",
    "\"\"\"\n",
    "ks_failed = pd.read_sql_query(sql_query,con)\n",
    "ks_failed.head()"
   ]
  },
  {
   "cell_type": "code",
   "execution_count": null,
   "metadata": {},
   "outputs": [],
   "source": []
  }
 ],
 "metadata": {
  "kernelspec": {
   "display_name": "Python 3",
   "language": "python",
   "name": "python3"
  },
  "language_info": {
   "codemirror_mode": {
    "name": "ipython",
    "version": 3
   },
   "file_extension": ".py",
   "mimetype": "text/x-python",
   "name": "python",
   "nbconvert_exporter": "python",
   "pygments_lexer": "ipython3",
   "version": "3.7.4"
  }
 },
 "nbformat": 4,
 "nbformat_minor": 4
}
